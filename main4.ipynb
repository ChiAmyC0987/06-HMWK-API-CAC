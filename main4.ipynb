{
 "cells": [
  {
   "cell_type": "code",
   "execution_count": null,
   "metadata": {},
   "outputs": [],
   "source": [
    "%matplotlib notebook"
   ]
  },
  {
   "cell_type": "code",
   "execution_count": null,
   "metadata": {},
   "outputs": [],
   "source": [
    "# Dependencies\n",
    "import urllib\n",
    "import json\n",
    "import requests\n",
    "from config import api_key\n",
    "import random\n",
    "import matplotlib.pyplot as plt\n",
    "import numpy as np\n",
    "import pandas as pd\n",
    "import csv\n",
    "from pandas.io.json import json_normalize # package for flattening json in pandas df"
   ]
  },
  {
   "cell_type": "code",
   "execution_count": null,
   "metadata": {},
   "outputs": [],
   "source": [
    "i = 0\n",
    "while i < 500:\n",
    "    df = pd.DataFrame({'id': [707860], 'name': [\"Hurzuf\"], 'country': [\"UA\"], 'lon': [34.283333], 'lat': [44.549999]})\n",
    "df"
   ]
  },
  {
   "cell_type": "code",
   "execution_count": null,
   "metadata": {},
   "outputs": [],
   "source": [
    "build_table_schema(df)\n",
    "{'primaryKey': 'id', 'type': 'integer'},\n",
    "{'fields': 'name', 'type': 'string'},\n",
    "{'fields': 'country', 'type': 'string'}"
   ]
  },
  {
   "cell_type": "code",
   "execution_count": null,
   "metadata": {},
   "outputs": [],
   "source": [
    "city=[]\n",
    "\n",
    "#load json object\n",
    "with open('city.list.json') as f: \n",
    "    print(f)\n",
    "    print(city.list.json)\n"
   ]
  },
  {
   "cell_type": "code",
   "execution_count": null,
   "metadata": {},
   "outputs": [],
   "source": [
    " d = json.load(f)\n",
    "    \n",
    "# tells us parent node is 'programs'\n",
    "city = json_normalize(d)\n",
    "print(city)\n",
    "Point = namedtuple(\"coord\", [\"lon\", \"lat\"])"
   ]
  },
  {
   "cell_type": "code",
   "execution_count": null,
   "metadata": {},
   "outputs": [],
   "source": [
    "# set up lists to hold reponse info\n",
    "cities = [\"Paris\", \"London\", \"Oslo\", \"New York\", \"Beijing\", \"San Francisco\", \"Helsinki\"]\n",
    "lat = []\n",
    "temp = []\n",
    "hum = []\n",
    "wind = []\n",
    "cloud = []\n",
    "\n",
    "# Loop through the list of cities and perform a request for data on each\n",
    "for city in cities:\n",
    "    response = requests.get(query_url + city).json()\n",
    "    lat.append(response['coord']['lat'])\n",
    "    temp.append(response['main']['temp'])\n"
   ]
  },
  {
   "cell_type": "code",
   "execution_count": null,
   "metadata": {},
   "outputs": [],
   "source": [
    "city_list = [[]]\n",
    "def fetch_full_data():\n",
    "  city_list=json.loads(city.list.json).read()\n",
    "  city_list = { \"id\", \"name\", \"country\", \"coord\": [\"lon\", \"lat\"]}\n",
    " \n",
    "\n",
    "  for id in city_list:\n",
    "    for coord in question['answers']:\n",
    "      newCity = {\n",
    "    \"id\": 707860,\n",
    "    \"name\": \"Hurzuf\",\n",
    "    \"country\": \"UA\",\n",
    "    \"coord\": {\n",
    "      \"lon\": 34.283333,\n",
    "      \"lat\": 44.549999\n",
    "    }\n",
    "      answers.append(newCity)\n",
    "  return pd.DataFrame(city_all)\n",
    "\n",
    "\n",
    "full_data = fetch_full_data()\n",
    "datapoints_inside_public_lb = full_data[full_data['insidePublicLB']==True]"
   ]
  },
  {
   "cell_type": "code",
   "execution_count": null,
   "metadata": {},
   "outputs": [],
   "source": [
    "# Save config information.\n",
    "url = \"http://api.openweathermap.org/data/2.5/weather?\"\n",
    "units = \"metric\"\n",
    "\n",
    "# Build partial query URL\n",
    "query_url = f\"{url}appid={api_key}&units={units}&q=\""
   ]
  },
  {
   "cell_type": "code",
   "execution_count": null,
   "metadata": {},
   "outputs": [],
   "source": [
    "# set id to every 5 element\n",
    "\n",
    "# count i up to 500\n",
    "i=0\n",
    "while i<5: \n",
    "    i+=1\n",
    "    print(i)\n",
    "\n",
    "rand = \"707860\"\n",
    "\n",
    "# Build query URL\n",
    "query_url = url+ \"id=\" + rand + \"&appid=\" + api_key\n",
    "\n",
    "# Get weather data\n",
    "weather_response = requests.get(query_url)\n",
    "weather_json = weather_response.json()\n"
   ]
  },
  {
   "cell_type": "code",
   "execution_count": null,
   "metadata": {
    "scrolled": false
   },
   "outputs": [],
   "source": [
    "print(json.dumps(weather_json, indent=5, sort_key=True))"
   ]
  },
  {
   "cell_type": "code",
   "execution_count": null,
   "metadata": {},
   "outputs": [],
   "source": [
    "# dataframe with i, id, city name, lat, long, temp, humidity, wind, cloud\n",
    "# plot scatter temp vs lat\n",
    "# plot humidity vs lat\n",
    "# plot wind\n",
    "# plot cloud"
   ]
  },
  {
   "cell_type": "code",
   "execution_count": null,
   "metadata": {},
   "outputs": [],
   "source": [
    "# Tells matplotlib that we want to make a scatter plot\n",
    "\n",
    "# The size of each point on our plot is determined by their x value\n",
    "plt.scatter(weather_data[\"lat\"], weather_data[\"temp\"], marker=\"o\", facecolors=\"red\", edgecolors=\"black\", s=weather_data[\"temp\"], alpha=0.75)\n",
    "\n",
    "# Incorporate the other graph properties\n",
    "plt.title(\"Temperature in World Cities\")\n",
    "plt.ylabel(\"Temperature (Celsius)\")\n",
    "plt.xlabel(\"Latitude\")\n",
    "plt.grid(True)\n",
    "\n",
    "# Save the figure\n",
    "plt.savefig(\"TemperatureInWorldCities.png\")\n",
    "\n",
    "# Show plot\n",
    "plt.show()"
   ]
  },
  {
   "cell_type": "code",
   "execution_count": null,
   "metadata": {},
   "outputs": [],
   "source": []
  },
  {
   "cell_type": "code",
   "execution_count": null,
   "metadata": {},
   "outputs": [],
   "source": []
  }
 ],
 "metadata": {
  "kernelspec": {
   "display_name": "Python 3",
   "language": "python",
   "name": "python3"
  },
  "language_info": {
   "codemirror_mode": {
    "name": "ipython",
    "version": 3
   },
   "file_extension": ".py",
   "mimetype": "text/x-python",
   "name": "python",
   "nbconvert_exporter": "python",
   "pygments_lexer": "ipython3",
   "version": "3.7.3"
  },
  "varInspector": {
   "cols": {
    "lenName": 16,
    "lenType": 16,
    "lenVar": 40
   },
   "kernels_config": {
    "python": {
     "delete_cmd_postfix": "",
     "delete_cmd_prefix": "del ",
     "library": "var_list.py",
     "varRefreshCmd": "print(var_dic_list())"
    },
    "r": {
     "delete_cmd_postfix": ") ",
     "delete_cmd_prefix": "rm(",
     "library": "var_list.r",
     "varRefreshCmd": "cat(var_dic_list()) "
    }
   },
   "types_to_exclude": [
    "module",
    "function",
    "builtin_function_or_method",
    "instance",
    "_Feature"
   ],
   "window_display": false
  }
 },
 "nbformat": 4,
 "nbformat_minor": 2
}
